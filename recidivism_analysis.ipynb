{
  "nbformat": 4,
  "nbformat_minor": 0,
  "metadata": {
    "colab": {
      "provenance": [],
      "authorship_tag": "ABX9TyNg7+RahmwideJALsfeAzFv",
      "include_colab_link": true
    },
    "kernelspec": {
      "name": "python3",
      "display_name": "Python 3"
    },
    "language_info": {
      "name": "python"
    }
  },
  "cells": [
    {
      "cell_type": "markdown",
      "metadata": {
        "id": "view-in-github",
        "colab_type": "text"
      },
      "source": [
        "<a href=\"https://colab.research.google.com/github/ragyeongyoon/BNCS401-recidivism-prediction/blob/main/recidivism_analysis.ipynb\" target=\"_parent\"><img src=\"https://colab.research.google.com/assets/colab-badge.svg\" alt=\"Open In Colab\"/></a>"
      ]
    },
    {
      "cell_type": "markdown",
      "source": [
        "1. Colab에 데이터 업로드 및 라이브러리 임포트"
      ],
      "metadata": {
        "id": "zRn97JAv6f_X"
      }
    },
    {
      "cell_type": "code",
      "execution_count": 36,
      "metadata": {
        "colab": {
          "base_uri": "https://localhost:8080/",
          "height": 452
        },
        "id": "Mh-Mf5Yr5hsD",
        "outputId": "1d9d425a-f1c0-4179-fad3-029371da40ad"
      },
      "outputs": [
        {
          "output_type": "stream",
          "name": "stdout",
          "text": [
            "데이터 모양: (26020, 17)\n"
          ]
        },
        {
          "output_type": "execute_result",
          "data": {
            "text/plain": [
              "   Fiscal Year Released  Recidivism Reporting Year Main Supervising District  \\\n",
              "0                  2010                       2013                       7JD   \n",
              "1                  2010                       2013                       NaN   \n",
              "2                  2010                       2013                       5JD   \n",
              "3                  2010                       2013                       6JD   \n",
              "4                  2010                       2013                       NaN   \n",
              "\n",
              "                   Release Type      Race - Ethnicity Age At Release    Sex  \\\n",
              "0                        Parole  Black - Non-Hispanic           25-34  Male   \n",
              "1  Discharged – End of Sentence  White - Non-Hispanic           25-34  Male   \n",
              "2                        Parole  White - Non-Hispanic           35-44  Male   \n",
              "3                        Parole  White - Non-Hispanic           25-34  Male   \n",
              "4  Discharged – End of Sentence  Black - Non-Hispanic           35-44  Male   \n",
              "\n",
              "  Offense Classification Offense Type Offense Subtype Return to Prison  \\\n",
              "0               C Felony      Violent         Robbery              Yes   \n",
              "1               D Felony     Property           Theft              Yes   \n",
              "2               B Felony         Drug     Trafficking              Yes   \n",
              "3               B Felony        Other  Other Criminal               No   \n",
              "4               D Felony      Violent         Assault              Yes   \n",
              "\n",
              "   Days to Return Recidivism Type New Offense Classification New Offense Type  \\\n",
              "0           433.0             New                   C Felony             Drug   \n",
              "1           453.0            Tech                        NaN              NaN   \n",
              "2           832.0            Tech                        NaN              NaN   \n",
              "3             NaN   No Recidivism                        NaN              NaN   \n",
              "4           116.0            Tech                        NaN              NaN   \n",
              "\n",
              "  New Offense Sub Type Target Population  \n",
              "0          Trafficking               Yes  \n",
              "1                  NaN                No  \n",
              "2                  NaN               Yes  \n",
              "3                  NaN               Yes  \n",
              "4                  NaN                No  "
            ],
            "text/html": [
              "\n",
              "  <div id=\"df-85564947-0828-44c5-a13a-be78461761f9\" class=\"colab-df-container\">\n",
              "    <div>\n",
              "<style scoped>\n",
              "    .dataframe tbody tr th:only-of-type {\n",
              "        vertical-align: middle;\n",
              "    }\n",
              "\n",
              "    .dataframe tbody tr th {\n",
              "        vertical-align: top;\n",
              "    }\n",
              "\n",
              "    .dataframe thead th {\n",
              "        text-align: right;\n",
              "    }\n",
              "</style>\n",
              "<table border=\"1\" class=\"dataframe\">\n",
              "  <thead>\n",
              "    <tr style=\"text-align: right;\">\n",
              "      <th></th>\n",
              "      <th>Fiscal Year Released</th>\n",
              "      <th>Recidivism Reporting Year</th>\n",
              "      <th>Main Supervising District</th>\n",
              "      <th>Release Type</th>\n",
              "      <th>Race - Ethnicity</th>\n",
              "      <th>Age At Release</th>\n",
              "      <th>Sex</th>\n",
              "      <th>Offense Classification</th>\n",
              "      <th>Offense Type</th>\n",
              "      <th>Offense Subtype</th>\n",
              "      <th>Return to Prison</th>\n",
              "      <th>Days to Return</th>\n",
              "      <th>Recidivism Type</th>\n",
              "      <th>New Offense Classification</th>\n",
              "      <th>New Offense Type</th>\n",
              "      <th>New Offense Sub Type</th>\n",
              "      <th>Target Population</th>\n",
              "    </tr>\n",
              "  </thead>\n",
              "  <tbody>\n",
              "    <tr>\n",
              "      <th>0</th>\n",
              "      <td>2010</td>\n",
              "      <td>2013</td>\n",
              "      <td>7JD</td>\n",
              "      <td>Parole</td>\n",
              "      <td>Black - Non-Hispanic</td>\n",
              "      <td>25-34</td>\n",
              "      <td>Male</td>\n",
              "      <td>C Felony</td>\n",
              "      <td>Violent</td>\n",
              "      <td>Robbery</td>\n",
              "      <td>Yes</td>\n",
              "      <td>433.0</td>\n",
              "      <td>New</td>\n",
              "      <td>C Felony</td>\n",
              "      <td>Drug</td>\n",
              "      <td>Trafficking</td>\n",
              "      <td>Yes</td>\n",
              "    </tr>\n",
              "    <tr>\n",
              "      <th>1</th>\n",
              "      <td>2010</td>\n",
              "      <td>2013</td>\n",
              "      <td>NaN</td>\n",
              "      <td>Discharged – End of Sentence</td>\n",
              "      <td>White - Non-Hispanic</td>\n",
              "      <td>25-34</td>\n",
              "      <td>Male</td>\n",
              "      <td>D Felony</td>\n",
              "      <td>Property</td>\n",
              "      <td>Theft</td>\n",
              "      <td>Yes</td>\n",
              "      <td>453.0</td>\n",
              "      <td>Tech</td>\n",
              "      <td>NaN</td>\n",
              "      <td>NaN</td>\n",
              "      <td>NaN</td>\n",
              "      <td>No</td>\n",
              "    </tr>\n",
              "    <tr>\n",
              "      <th>2</th>\n",
              "      <td>2010</td>\n",
              "      <td>2013</td>\n",
              "      <td>5JD</td>\n",
              "      <td>Parole</td>\n",
              "      <td>White - Non-Hispanic</td>\n",
              "      <td>35-44</td>\n",
              "      <td>Male</td>\n",
              "      <td>B Felony</td>\n",
              "      <td>Drug</td>\n",
              "      <td>Trafficking</td>\n",
              "      <td>Yes</td>\n",
              "      <td>832.0</td>\n",
              "      <td>Tech</td>\n",
              "      <td>NaN</td>\n",
              "      <td>NaN</td>\n",
              "      <td>NaN</td>\n",
              "      <td>Yes</td>\n",
              "    </tr>\n",
              "    <tr>\n",
              "      <th>3</th>\n",
              "      <td>2010</td>\n",
              "      <td>2013</td>\n",
              "      <td>6JD</td>\n",
              "      <td>Parole</td>\n",
              "      <td>White - Non-Hispanic</td>\n",
              "      <td>25-34</td>\n",
              "      <td>Male</td>\n",
              "      <td>B Felony</td>\n",
              "      <td>Other</td>\n",
              "      <td>Other Criminal</td>\n",
              "      <td>No</td>\n",
              "      <td>NaN</td>\n",
              "      <td>No Recidivism</td>\n",
              "      <td>NaN</td>\n",
              "      <td>NaN</td>\n",
              "      <td>NaN</td>\n",
              "      <td>Yes</td>\n",
              "    </tr>\n",
              "    <tr>\n",
              "      <th>4</th>\n",
              "      <td>2010</td>\n",
              "      <td>2013</td>\n",
              "      <td>NaN</td>\n",
              "      <td>Discharged – End of Sentence</td>\n",
              "      <td>Black - Non-Hispanic</td>\n",
              "      <td>35-44</td>\n",
              "      <td>Male</td>\n",
              "      <td>D Felony</td>\n",
              "      <td>Violent</td>\n",
              "      <td>Assault</td>\n",
              "      <td>Yes</td>\n",
              "      <td>116.0</td>\n",
              "      <td>Tech</td>\n",
              "      <td>NaN</td>\n",
              "      <td>NaN</td>\n",
              "      <td>NaN</td>\n",
              "      <td>No</td>\n",
              "    </tr>\n",
              "  </tbody>\n",
              "</table>\n",
              "</div>\n",
              "    <div class=\"colab-df-buttons\">\n",
              "\n",
              "  <div class=\"colab-df-container\">\n",
              "    <button class=\"colab-df-convert\" onclick=\"convertToInteractive('df-85564947-0828-44c5-a13a-be78461761f9')\"\n",
              "            title=\"Convert this dataframe to an interactive table.\"\n",
              "            style=\"display:none;\">\n",
              "\n",
              "  <svg xmlns=\"http://www.w3.org/2000/svg\" height=\"24px\" viewBox=\"0 -960 960 960\">\n",
              "    <path d=\"M120-120v-720h720v720H120Zm60-500h600v-160H180v160Zm220 220h160v-160H400v160Zm0 220h160v-160H400v160ZM180-400h160v-160H180v160Zm440 0h160v-160H620v160ZM180-180h160v-160H180v160Zm440 0h160v-160H620v160Z\"/>\n",
              "  </svg>\n",
              "    </button>\n",
              "\n",
              "  <style>\n",
              "    .colab-df-container {\n",
              "      display:flex;\n",
              "      gap: 12px;\n",
              "    }\n",
              "\n",
              "    .colab-df-convert {\n",
              "      background-color: #E8F0FE;\n",
              "      border: none;\n",
              "      border-radius: 50%;\n",
              "      cursor: pointer;\n",
              "      display: none;\n",
              "      fill: #1967D2;\n",
              "      height: 32px;\n",
              "      padding: 0 0 0 0;\n",
              "      width: 32px;\n",
              "    }\n",
              "\n",
              "    .colab-df-convert:hover {\n",
              "      background-color: #E2EBFA;\n",
              "      box-shadow: 0px 1px 2px rgba(60, 64, 67, 0.3), 0px 1px 3px 1px rgba(60, 64, 67, 0.15);\n",
              "      fill: #174EA6;\n",
              "    }\n",
              "\n",
              "    .colab-df-buttons div {\n",
              "      margin-bottom: 4px;\n",
              "    }\n",
              "\n",
              "    [theme=dark] .colab-df-convert {\n",
              "      background-color: #3B4455;\n",
              "      fill: #D2E3FC;\n",
              "    }\n",
              "\n",
              "    [theme=dark] .colab-df-convert:hover {\n",
              "      background-color: #434B5C;\n",
              "      box-shadow: 0px 1px 3px 1px rgba(0, 0, 0, 0.15);\n",
              "      filter: drop-shadow(0px 1px 2px rgba(0, 0, 0, 0.3));\n",
              "      fill: #FFFFFF;\n",
              "    }\n",
              "  </style>\n",
              "\n",
              "    <script>\n",
              "      const buttonEl =\n",
              "        document.querySelector('#df-85564947-0828-44c5-a13a-be78461761f9 button.colab-df-convert');\n",
              "      buttonEl.style.display =\n",
              "        google.colab.kernel.accessAllowed ? 'block' : 'none';\n",
              "\n",
              "      async function convertToInteractive(key) {\n",
              "        const element = document.querySelector('#df-85564947-0828-44c5-a13a-be78461761f9');\n",
              "        const dataTable =\n",
              "          await google.colab.kernel.invokeFunction('convertToInteractive',\n",
              "                                                    [key], {});\n",
              "        if (!dataTable) return;\n",
              "\n",
              "        const docLinkHtml = 'Like what you see? Visit the ' +\n",
              "          '<a target=\"_blank\" href=https://colab.research.google.com/notebooks/data_table.ipynb>data table notebook</a>'\n",
              "          + ' to learn more about interactive tables.';\n",
              "        element.innerHTML = '';\n",
              "        dataTable['output_type'] = 'display_data';\n",
              "        await google.colab.output.renderOutput(dataTable, element);\n",
              "        const docLink = document.createElement('div');\n",
              "        docLink.innerHTML = docLinkHtml;\n",
              "        element.appendChild(docLink);\n",
              "      }\n",
              "    </script>\n",
              "  </div>\n",
              "\n",
              "\n",
              "    <div id=\"df-c98de842-e8f0-4571-894a-9d68b2092856\">\n",
              "      <button class=\"colab-df-quickchart\" onclick=\"quickchart('df-c98de842-e8f0-4571-894a-9d68b2092856')\"\n",
              "                title=\"Suggest charts\"\n",
              "                style=\"display:none;\">\n",
              "\n",
              "<svg xmlns=\"http://www.w3.org/2000/svg\" height=\"24px\"viewBox=\"0 0 24 24\"\n",
              "     width=\"24px\">\n",
              "    <g>\n",
              "        <path d=\"M19 3H5c-1.1 0-2 .9-2 2v14c0 1.1.9 2 2 2h14c1.1 0 2-.9 2-2V5c0-1.1-.9-2-2-2zM9 17H7v-7h2v7zm4 0h-2V7h2v10zm4 0h-2v-4h2v4z\"/>\n",
              "    </g>\n",
              "</svg>\n",
              "      </button>\n",
              "\n",
              "<style>\n",
              "  .colab-df-quickchart {\n",
              "      --bg-color: #E8F0FE;\n",
              "      --fill-color: #1967D2;\n",
              "      --hover-bg-color: #E2EBFA;\n",
              "      --hover-fill-color: #174EA6;\n",
              "      --disabled-fill-color: #AAA;\n",
              "      --disabled-bg-color: #DDD;\n",
              "  }\n",
              "\n",
              "  [theme=dark] .colab-df-quickchart {\n",
              "      --bg-color: #3B4455;\n",
              "      --fill-color: #D2E3FC;\n",
              "      --hover-bg-color: #434B5C;\n",
              "      --hover-fill-color: #FFFFFF;\n",
              "      --disabled-bg-color: #3B4455;\n",
              "      --disabled-fill-color: #666;\n",
              "  }\n",
              "\n",
              "  .colab-df-quickchart {\n",
              "    background-color: var(--bg-color);\n",
              "    border: none;\n",
              "    border-radius: 50%;\n",
              "    cursor: pointer;\n",
              "    display: none;\n",
              "    fill: var(--fill-color);\n",
              "    height: 32px;\n",
              "    padding: 0;\n",
              "    width: 32px;\n",
              "  }\n",
              "\n",
              "  .colab-df-quickchart:hover {\n",
              "    background-color: var(--hover-bg-color);\n",
              "    box-shadow: 0 1px 2px rgba(60, 64, 67, 0.3), 0 1px 3px 1px rgba(60, 64, 67, 0.15);\n",
              "    fill: var(--button-hover-fill-color);\n",
              "  }\n",
              "\n",
              "  .colab-df-quickchart-complete:disabled,\n",
              "  .colab-df-quickchart-complete:disabled:hover {\n",
              "    background-color: var(--disabled-bg-color);\n",
              "    fill: var(--disabled-fill-color);\n",
              "    box-shadow: none;\n",
              "  }\n",
              "\n",
              "  .colab-df-spinner {\n",
              "    border: 2px solid var(--fill-color);\n",
              "    border-color: transparent;\n",
              "    border-bottom-color: var(--fill-color);\n",
              "    animation:\n",
              "      spin 1s steps(1) infinite;\n",
              "  }\n",
              "\n",
              "  @keyframes spin {\n",
              "    0% {\n",
              "      border-color: transparent;\n",
              "      border-bottom-color: var(--fill-color);\n",
              "      border-left-color: var(--fill-color);\n",
              "    }\n",
              "    20% {\n",
              "      border-color: transparent;\n",
              "      border-left-color: var(--fill-color);\n",
              "      border-top-color: var(--fill-color);\n",
              "    }\n",
              "    30% {\n",
              "      border-color: transparent;\n",
              "      border-left-color: var(--fill-color);\n",
              "      border-top-color: var(--fill-color);\n",
              "      border-right-color: var(--fill-color);\n",
              "    }\n",
              "    40% {\n",
              "      border-color: transparent;\n",
              "      border-right-color: var(--fill-color);\n",
              "      border-top-color: var(--fill-color);\n",
              "    }\n",
              "    60% {\n",
              "      border-color: transparent;\n",
              "      border-right-color: var(--fill-color);\n",
              "    }\n",
              "    80% {\n",
              "      border-color: transparent;\n",
              "      border-right-color: var(--fill-color);\n",
              "      border-bottom-color: var(--fill-color);\n",
              "    }\n",
              "    90% {\n",
              "      border-color: transparent;\n",
              "      border-bottom-color: var(--fill-color);\n",
              "    }\n",
              "  }\n",
              "</style>\n",
              "\n",
              "      <script>\n",
              "        async function quickchart(key) {\n",
              "          const quickchartButtonEl =\n",
              "            document.querySelector('#' + key + ' button');\n",
              "          quickchartButtonEl.disabled = true;  // To prevent multiple clicks.\n",
              "          quickchartButtonEl.classList.add('colab-df-spinner');\n",
              "          try {\n",
              "            const charts = await google.colab.kernel.invokeFunction(\n",
              "                'suggestCharts', [key], {});\n",
              "          } catch (error) {\n",
              "            console.error('Error during call to suggestCharts:', error);\n",
              "          }\n",
              "          quickchartButtonEl.classList.remove('colab-df-spinner');\n",
              "          quickchartButtonEl.classList.add('colab-df-quickchart-complete');\n",
              "        }\n",
              "        (() => {\n",
              "          let quickchartButtonEl =\n",
              "            document.querySelector('#df-c98de842-e8f0-4571-894a-9d68b2092856 button');\n",
              "          quickchartButtonEl.style.display =\n",
              "            google.colab.kernel.accessAllowed ? 'block' : 'none';\n",
              "        })();\n",
              "      </script>\n",
              "    </div>\n",
              "\n",
              "    </div>\n",
              "  </div>\n"
            ],
            "application/vnd.google.colaboratory.intrinsic+json": {
              "type": "dataframe",
              "variable_name": "full_data",
              "summary": "{\n  \"name\": \"full_data\",\n  \"rows\": 26020,\n  \"fields\": [\n    {\n      \"column\": \"Fiscal Year Released\",\n      \"properties\": {\n        \"dtype\": \"number\",\n        \"std\": 1,\n        \"min\": 2010,\n        \"max\": 2015,\n        \"num_unique_values\": 6,\n        \"samples\": [\n          2010,\n          2011,\n          2015\n        ],\n        \"semantic_type\": \"\",\n        \"description\": \"\"\n      }\n    },\n    {\n      \"column\": \"Recidivism Reporting Year\",\n      \"properties\": {\n        \"dtype\": \"number\",\n        \"std\": 1,\n        \"min\": 2013,\n        \"max\": 2018,\n        \"num_unique_values\": 6,\n        \"samples\": [\n          2013,\n          2014,\n          2018\n        ],\n        \"semantic_type\": \"\",\n        \"description\": \"\"\n      }\n    },\n    {\n      \"column\": \"Main Supervising District\",\n      \"properties\": {\n        \"dtype\": \"category\",\n        \"num_unique_values\": 10,\n        \"samples\": [\n          \"Interstate Compact\",\n          \"5JD\",\n          \"3JD\"\n        ],\n        \"semantic_type\": \"\",\n        \"description\": \"\"\n      }\n    },\n    {\n      \"column\": \"Release Type\",\n      \"properties\": {\n        \"dtype\": \"category\",\n        \"num_unique_values\": 12,\n        \"samples\": [\n          \"Released to Special Sentence\",\n          \"Paroled to Detainer - Out of State\",\n          \"Parole\"\n        ],\n        \"semantic_type\": \"\",\n        \"description\": \"\"\n      }\n    },\n    {\n      \"column\": \"Race - Ethnicity\",\n      \"properties\": {\n        \"dtype\": \"category\",\n        \"num_unique_values\": 11,\n        \"samples\": [\n          \"Asian or Pacific Islander - Non-Hispanic\",\n          \"Black - Non-Hispanic\",\n          \"Asian or Pacific Islander - Hispanic\"\n        ],\n        \"semantic_type\": \"\",\n        \"description\": \"\"\n      }\n    },\n    {\n      \"column\": \"Age At Release \",\n      \"properties\": {\n        \"dtype\": \"category\",\n        \"num_unique_values\": 5,\n        \"samples\": [\n          \"35-44\",\n          \"55 and Older\",\n          \"45-54\"\n        ],\n        \"semantic_type\": \"\",\n        \"description\": \"\"\n      }\n    },\n    {\n      \"column\": \"Sex\",\n      \"properties\": {\n        \"dtype\": \"category\",\n        \"num_unique_values\": 2,\n        \"samples\": [\n          \"Female\",\n          \"Male\"\n        ],\n        \"semantic_type\": \"\",\n        \"description\": \"\"\n      }\n    },\n    {\n      \"column\": \"Offense Classification\",\n      \"properties\": {\n        \"dtype\": \"category\",\n        \"num_unique_values\": 15,\n        \"samples\": [\n          \"Felony - Enhancement to Original Penalty\",\n          \"Felony - Mandatory Minimum\"\n        ],\n        \"semantic_type\": \"\",\n        \"description\": \"\"\n      }\n    },\n    {\n      \"column\": \"Offense Type\",\n      \"properties\": {\n        \"dtype\": \"category\",\n        \"num_unique_values\": 5,\n        \"samples\": [\n          \"Property\",\n          \"Public Order\"\n        ],\n        \"semantic_type\": \"\",\n        \"description\": \"\"\n      }\n    },\n    {\n      \"column\": \"Offense Subtype\",\n      \"properties\": {\n        \"dtype\": \"category\",\n        \"num_unique_values\": 26,\n        \"samples\": [\n          \"Drug Possession\",\n          \"Flight/Escape\"\n        ],\n        \"semantic_type\": \"\",\n        \"description\": \"\"\n      }\n    },\n    {\n      \"column\": \"Return to Prison\",\n      \"properties\": {\n        \"dtype\": \"category\",\n        \"num_unique_values\": 2,\n        \"samples\": [\n          \"No\",\n          \"Yes\"\n        ],\n        \"semantic_type\": \"\",\n        \"description\": \"\"\n      }\n    },\n    {\n      \"column\": \"Days to Return\",\n      \"properties\": {\n        \"dtype\": \"number\",\n        \"std\": 282.3033519348318,\n        \"min\": 0.0,\n        \"max\": 1095.0,\n        \"num_unique_values\": 1079,\n        \"samples\": [\n          51.0,\n          561.0\n        ],\n        \"semantic_type\": \"\",\n        \"description\": \"\"\n      }\n    },\n    {\n      \"column\": \"Recidivism Type\",\n      \"properties\": {\n        \"dtype\": \"category\",\n        \"num_unique_values\": 3,\n        \"samples\": [\n          \"New\",\n          \"Tech\"\n        ],\n        \"semantic_type\": \"\",\n        \"description\": \"\"\n      }\n    },\n    {\n      \"column\": \"New Offense Classification\",\n      \"properties\": {\n        \"dtype\": \"category\",\n        \"num_unique_values\": 15,\n        \"samples\": [\n          \"Public Order\",\n          \"Violent\"\n        ],\n        \"semantic_type\": \"\",\n        \"description\": \"\"\n      }\n    },\n    {\n      \"column\": \"New Offense Type\",\n      \"properties\": {\n        \"dtype\": \"category\",\n        \"num_unique_values\": 10,\n        \"samples\": [\n          \"Traffic\",\n          \"Public Order\"\n        ],\n        \"semantic_type\": \"\",\n        \"description\": \"\"\n      }\n    },\n    {\n      \"column\": \"New Offense Sub Type\",\n      \"properties\": {\n        \"dtype\": \"category\",\n        \"num_unique_values\": 25,\n        \"samples\": [\n          \"Theft\",\n          \"Other Public Order\"\n        ],\n        \"semantic_type\": \"\",\n        \"description\": \"\"\n      }\n    },\n    {\n      \"column\": \"Target Population\",\n      \"properties\": {\n        \"dtype\": \"category\",\n        \"num_unique_values\": 2,\n        \"samples\": [\n          \"No\",\n          \"Yes\"\n        ],\n        \"semantic_type\": \"\",\n        \"description\": \"\"\n      }\n    }\n  ]\n}"
            }
          },
          "metadata": {},
          "execution_count": 36
        }
      ],
      "source": [
        "# 1. 필요한 라이브러리 불러오기\n",
        "import pandas as pd\n",
        "import numpy as np\n",
        "import matplotlib.pyplot as plt\n",
        "import seaborn as sns\n",
        "from sklearn.model_selection import train_test_split, cross_val_score, RandomizedSearchCV\n",
        "from sklearn.preprocessing import OneHotEncoder\n",
        "from sklearn.pipeline import Pipeline\n",
        "from sklearn.linear_model import LogisticRegression\n",
        "from sklearn.metrics import precision_recall_fscore_support, confusion_matrix, roc_auc_score\n",
        "from sklearn.exceptions import ConvergenceWarning\n",
        "import warnings\n",
        "\n",
        "# 경고 메시지 무시\n",
        "warnings.filterwarnings(\"ignore\", category=ConvergenceWarning)\n",
        "\n",
        "# 2. 데이터 불러오기\n",
        "file_path = './data/3-Year_Recidivism_for_Offenders_Released_from_Prison_in_Iowa.csv'\n",
        "full_data = pd.read_csv(file_path)\n",
        "\n",
        "print(\"데이터 모양:\", full_data.shape)\n",
        "full_data.head()"
      ]
    },
    {
      "cell_type": "markdown",
      "source": [
        "2. 데이터 전처리 및 탐색 (EDA)"
      ],
      "metadata": {
        "id": "wBeEbrWD6iST"
      }
    },
    {
      "cell_type": "code",
      "source": [
        "## 데이터 전처리\n",
        "# 종속 변수 설정: 'Return to Prison' 컬럼을 0과 1로 변환\n",
        "full_data['Recidivism'] = full_data['Return to Prison'].apply(lambda x: 1 if x == 'Yes' else 0)\n",
        "\n",
        "# 독립 변수 선택 - 재범 발생 후 알 수 있는 정보인 Data Leakage 제외\n",
        "features_to_use = [\n",
        "    \"Main Supervising District\",\n",
        "    \"Release Type\",\n",
        "    \"Race - Ethnicity\",\n",
        "    \"Age At Release \",  #Feature 뒤에 있는 공백 주의 (KeyError 해결)\n",
        "    \"Sex\",\n",
        "    \"Offense Classification\",\n",
        "    \"Offense Type\",\n",
        "    \"Offense Subtype\"\n",
        "]\n",
        "\n",
        "# 불필요한 컬럼 및 결측치가 있는 행 제거\n",
        "df_cleaned = full_data[features_to_use + ['Recidivism']].dropna().copy()\n",
        "\n",
        "print(\"전처리 후 데이터 모양:\", df_cleaned.shape)\n",
        "\n",
        "# 데이터 분리 (학습용 / 테스트용)\n",
        "X = df_cleaned[features_to_use]\n",
        "y = df_cleaned['Recidivism']\n",
        "\n",
        "X_train, X_test, y_train, y_test = train_test_split(X, y, test_size=0.2, random_state=42, stratify=y)\n",
        "\n",
        "print(\"학습 데이터 수:\", len(X_train))\n",
        "print(\"테스트 데이터 수:\", len(X_test))\n",
        "\n",
        "# 타겟 변수 분포 확인\n",
        "print(\"\\n학습 데이터 재범률 분포:\")\n",
        "print(y_train.value_counts(normalize=True))"
      ],
      "metadata": {
        "colab": {
          "base_uri": "https://localhost:8080/"
        },
        "id": "3PG-KUCr6h0G",
        "outputId": "5e208232-6d06-47f6-8853-2c45ee42b55e"
      },
      "execution_count": 51,
      "outputs": [
        {
          "output_type": "stream",
          "name": "stdout",
          "text": [
            "전처리 후 데이터 모양: (16438, 9)\n",
            "학습 데이터 수: 13150\n",
            "테스트 데이터 수: 3288\n",
            "\n",
            "학습 데이터 재범률 분포-데이터 불균형 확인:\n",
            "Recidivism\n",
            "0    0.596502\n",
            "1    0.403498\n",
            "Name: proportion, dtype: float64\n"
          ]
        }
      ]
    },
    {
      "cell_type": "markdown",
      "source": [
        "3. 모델링 파이프라인 구축 및 학습\n",
        "OneHotEncoder를 Pipeline과 함께 사용"
      ],
      "metadata": {
        "id": "Y6TDiD5O6rQF"
      }
    },
    {
      "cell_type": "code",
      "source": [
        "# 모델링 파이프라인 생성 (OneHotEncoder + 모델)\n",
        "\n",
        "# Softmax (Logistic Regression) 모델 파이프라인\n",
        "softmax_pipeline = Pipeline([\n",
        "    ('encoder', OneHotEncoder(handle_unknown='ignore')),\n",
        "    ('model', LogisticRegression(multi_class=\"multinomial\", solver=\"lbfgs\", C=10, max_iter=1000))\n",
        "])\n",
        "\n",
        "# 모델 학습\n",
        "softmax_pipeline.fit(X_train, y_train)\n",
        "\n",
        "print(\"Softmax 모델 학습 완료!\")"
      ],
      "metadata": {
        "colab": {
          "base_uri": "https://localhost:8080/"
        },
        "id": "7LyUVof_6scN",
        "outputId": "9f769773-e417-45c3-bebc-5499d2e5e05b"
      },
      "execution_count": 38,
      "outputs": [
        {
          "output_type": "stream",
          "name": "stderr",
          "text": [
            "/usr/local/lib/python3.11/dist-packages/sklearn/linear_model/_logistic.py:1237: FutureWarning: 'multi_class' was deprecated in version 1.5 and will be removed in 1.7. From then on, binary problems will be fit as proper binary  logistic regression models (as if multi_class='ovr' were set). Leave it to its default value to avoid this warning.\n",
            "  warnings.warn(\n"
          ]
        },
        {
          "output_type": "stream",
          "name": "stdout",
          "text": [
            "Softmax 모델 학습 완료!\n"
          ]
        }
      ]
    },
    {
      "cell_type": "markdown",
      "source": [
        "4. Softmax 모델 평가"
      ],
      "metadata": {
        "id": "5Mc291X96y0h"
      }
    },
    {
      "cell_type": "code",
      "source": [
        "# 5. 모델 평가 함수 정의\n",
        "def evaluate_model(pipeline, X_test, y_test):\n",
        "    # 예측\n",
        "    y_pred = pipeline.predict(X_test)\n",
        "    y_pred_proba = pipeline.predict_proba(X_test)[:, 1] # 재범(1)일 확률\n",
        "\n",
        "    # 성능 지표 계산\n",
        "    precision, recall, f1, _ = precision_recall_fscore_support(y_test, y_pred, average='binary')\n",
        "    auc = roc_auc_score(y_test, y_pred_proba)\n",
        "\n",
        "    print(f\"정밀도 (Precision): {precision:.4f}\")\n",
        "    print(f\"재현율 (Recall): {recall:.4f}\")\n",
        "    print(f\"F1-Score: {f1:.4f}\")\n",
        "    print(f\"AUC: {auc:.4f}\\n\")\n",
        "\n",
        "    # 혼동 행렬 시각화\n",
        "    cm = confusion_matrix(y_test, y_pred)\n",
        "    sns.heatmap(cm, annot=True, fmt='d', cmap='Blues')\n",
        "    plt.xlabel('Predicted')\n",
        "    plt.ylabel('Actual')\n",
        "    plt.title('Confusion Matrix-Softmax')\n",
        "    plt.show()\n",
        "\n",
        "# Softmax 모델 평가\n",
        "print(\"--- Softmax 모델 평가 결과 ---\")\n",
        "evaluate_model(softmax_pipeline, X_test, y_test)"
      ],
      "metadata": {
        "colab": {
          "base_uri": "https://localhost:8080/",
          "height": 581
        },
        "id": "9tOUnB6q6ygl",
        "outputId": "9212069b-cc2a-4b2b-9c6d-bb63708cdc55"
      },
      "execution_count": 39,
      "outputs": [
        {
          "output_type": "stream",
          "name": "stdout",
          "text": [
            "--- Softmax 모델 평가 결과 ---\n",
            "정밀도 (Precision): 0.5607\n",
            "재현율 (Recall): 0.2645\n",
            "F1-Score: 0.3594\n",
            "AUC: 0.6402\n",
            "\n"
          ]
        },
        {
          "output_type": "display_data",
          "data": {
            "text/plain": [
              "<Figure size 640x480 with 2 Axes>"
            ],
            "image/png": "[encoded data removed]"
          },
          "metadata": {}
        }
      ]
    },
    {
      "cell_type": "markdown",
      "source": [
        "데이터 불균형 처리 - Class_weight를 적용한 Softmax 모델 학습"
      ],
      "metadata": {
        "id": "2R360WkS9Ek3"
      }
    },
    {
      "cell_type": "code",
      "source": [
        "# 데이터 불균형 확인\n",
        "print(\"\\n학습 데이터 재범률 분포- 데이터 불균형 확인:\")\n",
        "print(y_train.value_counts(normalize=True))\n",
        "print(\"\\n\")"
      ],
      "metadata": {
        "colab": {
          "base_uri": "https://localhost:8080/"
        },
        "outputId": "eb3cdab1-b62f-4d3e-b74e-b161aac8d39e",
        "id": "F06N57zsayBu"
      },
      "execution_count": 53,
      "outputs": [
        {
          "output_type": "stream",
          "name": "stdout",
          "text": [
            "\n",
            "학습 데이터 재범률 분포-데이터 불균형 확인:\n",
            "Recidivism\n",
            "0    0.596502\n",
            "1    0.403498\n",
            "Name: proportion, dtype: float64\n"
          ]
        }
      ]
    },
    {
      "cell_type": "code",
      "source": [
        "# class_weight='balanced'를 적용한 Softmax 모델\n",
        "print(\"--- (개선) Softmax 모델 학습 및 평가 ---\")\n",
        "softmax_balanced_pipeline = Pipeline([\n",
        "    ('encoder', OneHotEncoder(handle_unknown='ignore')),\n",
        "    ('model', LogisticRegression(multi_class=\"multinomial\", solver=\"lbfgs\", C=10,\n",
        "                                 # 핵심 코드! 클래스 가중치 균형 맞추기\n",
        "                                 class_weight='balanced',\n",
        "                                 max_iter=1000))\n",
        "])\n",
        "\n",
        "softmax_balanced_pipeline.fit(X_train, y_train)\n",
        "\n",
        "def evaluate_model(pipeline, X_test, y_test, model_name=\"Model\"):\n",
        "    y_pred = pipeline.predict(X_test)\n",
        "    y_pred_proba = pipeline.predict_proba(X_test)[:, 1]\n",
        "    precision, recall, f1, _ = precision_recall_fscore_support(y_test, y_pred, average='binary')\n",
        "    auc = roc_auc_score(y_test, y_pred_proba)\n",
        "\n",
        "    print(f\"[{model_name} 평가 결과]\")\n",
        "    print(f\"정밀도 (Precision): {precision:.4f}\")\n",
        "    print(f\"재현율 (Recall): {recall:.4f}\")\n",
        "    print(f\"F1-Score: {f1:.4f}\")\n",
        "    print(f\"AUC: {auc:.4f}\\n\")\n",
        "\n",
        "#Balanced Softmax Heatmap 보기\n",
        "    cm = confusion_matrix(y_test, y_pred)\n",
        "    sns.heatmap(cm, annot=True, fmt='d', cmap='Blues')\n",
        "    plt.xlabel('Predicted')\n",
        "    plt.ylabel('Actual')\n",
        "    plt.title('Confusion Matrix-Balanced Softmax')\n",
        "    plt.show()\n",
        "    return {'precision': precision, 'recall': recall, 'f1': f1, 'auc': auc}\n",
        "\n",
        "# Softmax 모델 평가\n",
        "softmax_results = evaluate_model(softmax_balanced_pipeline, X_test, y_test, model_name=\"Balanced Softmax\")"
      ],
      "metadata": {
        "colab": {
          "base_uri": "https://localhost:8080/",
          "height": 655
        },
        "id": "HAv7DonNbns-",
        "outputId": "5952ae8a-e5ca-47e7-ecf9-160c0b4517c6"
      },
      "execution_count": 57,
      "outputs": [
        {
          "output_type": "stream",
          "name": "stdout",
          "text": [
            "--- (개선) Softmax 모델 학습 및 평가 ---\n"
          ]
        },
        {
          "output_type": "stream",
          "name": "stderr",
          "text": [
            "/usr/local/lib/python3.11/dist-packages/sklearn/linear_model/_logistic.py:1237: FutureWarning: 'multi_class' was deprecated in version 1.5 and will be removed in 1.7. From then on, binary problems will be fit as proper binary  logistic regression models (as if multi_class='ovr' were set). Leave it to its default value to avoid this warning.\n",
            "  warnings.warn(\n"
          ]
        },
        {
          "output_type": "stream",
          "name": "stdout",
          "text": [
            "[Balanced Softmax 평가 결과]\n",
            "정밀도 (Precision): 0.4902\n",
            "재현율 (Recall): 0.6383\n",
            "F1-Score: 0.5545\n",
            "AUC: 0.6402\n",
            "\n"
          ]
        },
        {
          "output_type": "display_data",
          "data": {
            "text/plain": [
              "<Figure size 640x480 with 2 Axes>"
            ],
            "image/png": "[encoded data removed]"
          },
          "metadata": {}
        }
      ]
    },
    {
      "cell_type": "markdown",
      "source": [
        " class_weight를 적용한 Neural Network 모델"
      ],
      "metadata": {
        "id": "ctT48CxP9deQ"
      }
    },
    {
      "cell_type": "code",
      "source": [
        "print(\"--- (개선) Neural Network 모델 학습 및 평가 ---\")\n",
        "\n",
        "# 신경망은 입력으로 숫자만 받음 -> OneHotEncoder를 먼저 적용\n",
        "encoder = OneHotEncoder(handle_unknown='ignore', sparse_output=False)\n",
        "X_train_encoded = encoder.fit_transform(X_train)\n",
        "X_test_encoded = encoder.transform(X_test)"
      ],
      "metadata": {
        "colab": {
          "base_uri": "https://localhost:8080/"
        },
        "id": "5f5UgcdD9fpQ",
        "outputId": "1b223ca8-dfa0-483e-9ff5-7d5d4681235c"
      },
      "execution_count": 42,
      "outputs": [
        {
          "output_type": "stream",
          "name": "stdout",
          "text": [
            "--- (개선) Neural Network 모델 학습 및 평가 ---\n"
          ]
        }
      ]
    },
    {
      "cell_type": "code",
      "source": [
        "import tensorflow as tf\n",
        "from tensorflow import keras\n",
        "\n",
        "# 신경망 모델 정의\n",
        "def build_nn_model(input_shape):\n",
        "    model = keras.models.Sequential([\n",
        "        keras.layers.Dense(64, activation=\"relu\", input_shape=input_shape),\n",
        "        keras.layers.Dropout(0.3),\n",
        "        keras.layers.Dense(32, activation=\"relu\"),\n",
        "        keras.layers.Dropout(0.3),\n",
        "        keras.layers.Dense(1, activation=\"sigmoid\") # 이진 분류이므로 sigmoid 사용\n",
        "    ])\n",
        "    model.compile(optimizer=\"adam\", loss=\"binary_crossentropy\", metrics=[\"accuracy\"])\n",
        "    return model\n",
        "\n",
        "nn_model = build_nn_model(X_train_encoded.shape[1:])"
      ],
      "metadata": {
        "colab": {
          "base_uri": "https://localhost:8080/"
        },
        "id": "ULGedjvE9oHs",
        "outputId": "d9081a83-9650-42e5-8d89-99bfd8e2981f"
      },
      "execution_count": 43,
      "outputs": [
        {
          "output_type": "stream",
          "name": "stderr",
          "text": [
            "/usr/local/lib/python3.11/dist-packages/keras/src/layers/core/dense.py:87: UserWarning: Do not pass an `input_shape`/`input_dim` argument to a layer. When using Sequential models, prefer using an `Input(shape)` object as the first layer in the model instead.\n",
            "  super().__init__(activity_regularizer=activity_regularizer, **kwargs)\n"
          ]
        }
      ]
    },
    {
      "cell_type": "code",
      "source": [
        "# 클래스 가중치 계산 (scikit-learn의 로직을 그대로 가져와 사용)\n",
        "from sklearn.utils import class_weight\n",
        "class_weights = class_weight.compute_class_weight('balanced',\n",
        "                                                  classes=np.unique(y_train),\n",
        "                                                  y=y_train)\n",
        "class_weights_dict = dict(enumerate(class_weights))\n",
        "\n",
        "# 모델 학습 (class_weight 적용)\n",
        "history = nn_model.fit(\n",
        "    X_train_encoded, y_train,\n",
        "    epochs=20,\n",
        "    batch_size=64,\n",
        "    validation_split=0.2,\n",
        "    # 핵심 코드! 클래스 가중치 적용\n",
        "    class_weight=class_weights_dict,\n",
        "    callbacks=[keras.callbacks.EarlyStopping(patience=3, restore_best_weights=True)],\n",
        "    verbose=0 # 학습 과정 로그 생략\n",
        ")"
      ],
      "metadata": {
        "id": "0pyHIISm-Eyt"
      },
      "execution_count": 44,
      "outputs": []
    },
    {
      "cell_type": "code",
      "source": [
        "# 신경망 모델 평가\n",
        "y_pred_nn_proba = nn_model.predict(X_test_encoded).ravel()\n",
        "y_pred_nn = (y_pred_nn_proba > 0.5).astype(int)\n",
        "\n",
        "precision_nn, recall_nn, f1_nn, _ = precision_recall_fscore_support(y_test, y_pred_nn, average='binary')\n",
        "auc_nn = roc_auc_score(y_test, y_pred_nn_proba)\n",
        "nn_results = {'precision': precision_nn, 'recall': recall_nn, 'f1': f1_nn, 'auc': auc_nn}\n",
        "\n",
        "# 1. 신경망 모델의 혼동 행렬 계산\n",
        "cm_nn = confusion_matrix(y_test, y_pred_nn)\n",
        "\n",
        "# 2. Seaborn을 사용해 히트맵으로 시각화\n",
        "sns.heatmap(cm_nn, annot=True, fmt='d', cmap='Blues')\n",
        "plt.xlabel('Predicted')\n",
        "plt.ylabel('Actual')\n",
        "plt.title('Confusion Matrix - Neural Network')\n",
        "plt.show()\n",
        "\n",
        "print(\"[Neural Network 평가 결과]\")\n",
        "print(f\"정밀도 (Precision): {precision_nn:.4f}\")\n",
        "print(f\"재현율 (Recall): {recall_nn:.4f}\")\n",
        "print(f\"F1-Score: {f1_nn:.4f}\")\n",
        "print(f\"AUC: {auc_nn:.4f}\\n\")\n"
      ],
      "metadata": {
        "colab": {
          "base_uri": "https://localhost:8080/",
          "height": 599
        },
        "id": "rz1u4E7Q-Ko_",
        "outputId": "a5023d23-e660-4893-96e7-9f26194f6cd5"
      },
      "execution_count": 50,
      "outputs": [
        {
          "output_type": "stream",
          "name": "stdout",
          "text": [
            "\u001b[1m103/103\u001b[0m \u001b[32m━━━━━━━━━━━━━━━━━━━━\u001b[0m\u001b[37m\u001b[0m \u001b[1m0s\u001b[0m 2ms/step\n"
          ]
        },
        {
          "output_type": "display_data",
          "data": {
            "text/plain": [
              "<Figure size 640x480 with 2 Axes>"
            ],
            "image/png": "[encoded data removed]"
          },
          "metadata": {}
        },
        {
          "output_type": "stream",
          "name": "stdout",
          "text": [
            "[Neural Network 평가 결과]\n",
            "정밀도 (Precision): 0.5036\n",
            "재현율 (Recall): 0.5742\n",
            "F1-Score: 0.5366\n",
            "AUC: 0.6402\n",
            "\n"
          ]
        }
      ]
    },
    {
      "cell_type": "markdown",
      "source": [
        "GitHub에 업로드"
      ],
      "metadata": {
        "id": "wIu_NWlM7KpP"
      }
    },
    {
      "cell_type": "code",
      "source": [
        "#requirement.txt 생성\n",
        "!pip freeze > requirements.txt"
      ],
      "metadata": {
        "id": "SCgAVHp67NRw"
      },
      "execution_count": 46,
      "outputs": []
    }
  ]
}